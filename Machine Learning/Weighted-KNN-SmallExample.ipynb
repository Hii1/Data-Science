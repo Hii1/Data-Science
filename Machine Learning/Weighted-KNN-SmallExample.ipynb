{
 "cells": [
  {
   "cell_type": "code",
   "execution_count": 99,
   "metadata": {},
   "outputs": [],
   "source": [
    "#19290116\n",
    "#MOHAMMAD SHABIB\n",
    "import numpy as np\n",
    "import pandas as pd\n",
    "from sklearn import datasets #this import is used for using the iris dataset\n",
    "from sklearn.model_selection import train_test_split #this import is used to split the data into training and test\n"
   ]
  },
  {
   "cell_type": "code",
   "execution_count": 100,
   "metadata": {},
   "outputs": [],
   "source": [
    "#distance between two node\n",
    "def euclidean_distance(x1, x2): \n",
    "        return np.sqrt(np.sum((x1 - x2)**2))\n",
    "    \n",
    "#consider the weight of the node not just the popularity of the class\n",
    "def weight_sum(k_weighted_labels):\n",
    "    df = pd.DataFrame(k_weighted_labels, columns = [\"label\", \"weight\"])\n",
    "    df = df.groupby(by=[\"label\"]).sum()\n",
    "    df.reset_index(inplace=True)\n",
    "    df.sort_values(by=['weight'], ascending=False, inplace=True)\n",
    "    return df[\"label\"].iloc[0]\n",
    "    \n",
    "    "
   ]
  },
  {
   "cell_type": "code",
   "execution_count": 101,
   "metadata": {},
   "outputs": [],
   "source": [
    "def preditct_WKNN(x_test, x_train, y_train, k=3):\n",
    "    y_predected = np.array([], dtype=int)    \n",
    "    for test_item in x_test:\n",
    "        distances = [euclidean_distance(test_item, x_t)for x_t in x_train]\n",
    "        sorted_indices = np.argsort(distances)[:k]\n",
    "        k_weighted_labels = [(y_train[i], 1./distances[i]) for i in sorted_indices]\n",
    "        y_predected = np.append(y_predected, weight_sum(k_weighted_labels))\n",
    "    return y_predected\n",
    "        \n",
    "        "
   ]
  },
  {
   "cell_type": "code",
   "execution_count": 102,
   "metadata": {},
   "outputs": [
    {
     "name": "stdout",
     "output_type": "stream",
     "text": [
      "Point:(3.0,3.0) Result: Red\n",
      "Point:(1.0,4.0) Result: Blue\n"
     ]
    }
   ],
   "source": [
    "x_test = np.array([[3,3],[1,4]])\n",
    "\n",
    "x_train = np.array([\n",
    "    [1,1],\n",
    "    [5,3],\n",
    "    [3,4],\n",
    "    [5,2],\n",
    "    [5,4],\n",
    "    [1,4.5],\n",
    "    [4,4],\n",
    "    [1,3],\n",
    "    [3,6],\n",
    "    [4,6],\n",
    "    [2.5,2]])\n",
    "\n",
    "y_train = np.array([0,0,0,0,1,1,1,1,2,2,2]) \n",
    "#0 for red, 1 for blue, 2 for green\n",
    "y_predicted = preditct_WKNN(x_test, x_train, y_train, k=5)\n",
    "Colors = [\"Red\", \"Blue\", \"Green\"]\n",
    "for i, result in enumerate(y_predicted):\n",
    "    print(\"Point:(%0.1f,%0.1f)\"%(x_test[i][0],x_test[i][1]), \"Result: %s\"%Colors[result])"
   ]
  },
  {
   "cell_type": "code",
   "execution_count": null,
   "metadata": {},
   "outputs": [],
   "source": []
  },
  {
   "cell_type": "code",
   "execution_count": null,
   "metadata": {},
   "outputs": [],
   "source": []
  }
 ],
 "metadata": {
  "kernelspec": {
   "display_name": "Python 3",
   "language": "python",
   "name": "python3"
  },
  "language_info": {
   "codemirror_mode": {
    "name": "ipython",
    "version": 3
   },
   "file_extension": ".py",
   "mimetype": "text/x-python",
   "name": "python",
   "nbconvert_exporter": "python",
   "pygments_lexer": "ipython3",
   "version": "3.8.5"
  }
 },
 "nbformat": 4,
 "nbformat_minor": 4
}
