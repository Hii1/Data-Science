{
 "cells": [
  {
   "cell_type": "code",
   "execution_count": 1,
   "metadata": {},
   "outputs": [],
   "source": [
    "#19290116\n",
    "#MOHAMMAD SHABIB\n",
    "import numpy as np\n",
    "import pandas as pd\n",
    "from sklearn import datasets #this import is used for using the iris dataset\n",
    "from sklearn.model_selection import train_test_split #this import is used to split the data into training and test\n"
   ]
  },
  {
   "cell_type": "code",
   "execution_count": 2,
   "metadata": {},
   "outputs": [],
   "source": [
    "#distance between two node\n",
    "def euclidean_distance(x1, x2): \n",
    "        return np.sqrt(np.sum((x1 - x2)**2))\n",
    "    \n",
    "#consider the weight of the node not just the popularity of the class\n",
    "def weight_sum(k_weighted_labels):\n",
    "    df = pd.DataFrame(k_weighted_labels, columns = [\"label\", \"weight\"])\n",
    "    df = df.groupby(by=[\"label\"]).sum()\n",
    "    df.reset_index(inplace=True)\n",
    "    df.sort_values(by=['weight'], ascending=False, inplace=True)\n",
    "    return df[\"label\"].iloc[0]\n",
    "    \n",
    "    "
   ]
  },
  {
   "cell_type": "code",
   "execution_count": 3,
   "metadata": {},
   "outputs": [],
   "source": [
    "def preditct_WKNN(x_test, x_train, y_train, k=3):\n",
    "    y_predected = np.array([], dtype=int)    \n",
    "    for test_item in x_test:\n",
    "        distances = [euclidean_distance(test_item, x_t)for x_t in x_train]\n",
    "        sorted_indices = np.argsort(distances)[:k]\n",
    "        k_weighted_labels = [(y_train[i], 1/distances[i]) for i in sorted_indices]    \n",
    "        y_predected = np.append(y_predected, weight_sum(k_weighted_labels))\n",
    "    return y_predected\n",
    "        \n",
    "        "
   ]
  },
  {
   "cell_type": "code",
   "execution_count": 4,
   "metadata": {},
   "outputs": [],
   "source": [
    "def accuracy(y_true, y_pred):\n",
    "    accuracy = np.sum(y_true == y_pred) / len(y_true)\n",
    "    return accuracy"
   ]
  },
  {
   "cell_type": "code",
   "execution_count": 5,
   "metadata": {},
   "outputs": [
    {
     "data": {
      "text/plain": [
       "1.0"
      ]
     },
     "execution_count": 5,
     "metadata": {},
     "output_type": "execute_result"
    }
   ],
   "source": [
    "iris = datasets.load_iris()\n",
    "x, y = iris.data, iris.target\n",
    "x_train, x_test, y_train, y_test = train_test_split(x, y, test_size=0.2, random_state=1234)\n",
    "\n",
    "y_predicted = preditct_WKNN(x_test, x_train, y_train, k=3)\n",
    "accuracy(y_test, y_predicted)"
   ]
  },
  {
   "cell_type": "code",
   "execution_count": null,
   "metadata": {},
   "outputs": [],
   "source": []
  }
 ],
 "metadata": {
  "kernelspec": {
   "display_name": "Python 3",
   "language": "python",
   "name": "python3"
  },
  "language_info": {
   "codemirror_mode": {
    "name": "ipython",
    "version": 3
   },
   "file_extension": ".py",
   "mimetype": "text/x-python",
   "name": "python",
   "nbconvert_exporter": "python",
   "pygments_lexer": "ipython3",
   "version": "3.8.5"
  }
 },
 "nbformat": 4,
 "nbformat_minor": 4
}
